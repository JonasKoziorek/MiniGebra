{
 "cells": [
  {
   "cell_type": "code",
   "execution_count": 8,
   "id": "4d2cdab3",
   "metadata": {},
   "outputs": [],
   "source": [
    "# usage example -- very simple\n",
    "import minigebra"
   ]
  },
  {
   "cell_type": "code",
   "execution_count": null,
   "id": "871f62ab",
   "metadata": {},
   "outputs": [],
   "source": [
    "minigebra.run(\"GUI\")"
   ]
  },
  {
   "cell_type": "code",
   "execution_count": null,
   "id": "96921ec5",
   "metadata": {},
   "outputs": [],
   "source": []
  }
 ],
 "metadata": {
  "kernelspec": {
   "display_name": "Python 3 (ipykernel)",
   "language": "python",
   "name": "python3"
  },
  "language_info": {
   "codemirror_mode": {
    "name": "ipython",
    "version": 3
   },
   "file_extension": ".py",
   "mimetype": "text/x-python",
   "name": "python",
   "nbconvert_exporter": "python",
   "pygments_lexer": "ipython3",
   "version": "3.9.13"
  }
 },
 "nbformat": 4,
 "nbformat_minor": 5
}
