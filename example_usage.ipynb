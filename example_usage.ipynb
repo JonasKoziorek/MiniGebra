{
 "cells": [
  {
   "cell_type": "code",
   "execution_count": 4,
   "id": "4d2cdab3",
   "metadata": {},
   "outputs": [],
   "source": [
    "# usage example -- very simple\n",
    "import minigebra"
   ]
  },
  {
   "cell_type": "code",
   "execution_count": 5,
   "id": "871f62ab",
   "metadata": {},
   "outputs": [
    {
     "name": "stdout",
     "output_type": "stream",
     "text": [
      "Command  is not valid.\n",
      "'NoneType' object is not iterable\n",
      "Following error occured while parsing: Invalid basic token.\n",
      "'NoneType' object is not iterable\n"
     ]
    },
    {
     "ename": "SystemExit",
     "evalue": "0",
     "output_type": "error",
     "traceback": [
      "An exception has occurred, use %tb to see the full traceback.\n",
      "\u001b[1;31mSystemExit\u001b[0m\u001b[1;31m:\u001b[0m 0\n"
     ]
    }
   ],
   "source": [
    "minigebra.run(\"GUI\")"
   ]
  },
  {
   "cell_type": "code",
   "execution_count": null,
   "id": "7d13b5f6",
   "metadata": {},
   "outputs": [],
   "source": []
  }
 ],
 "metadata": {
  "@webio": {
   "lastCommId": null,
   "lastKernelId": null
  },
  "kernelspec": {
   "display_name": "Python 3 (ipykernel)",
   "language": "python",
   "name": "python3"
  },
  "language_info": {
   "codemirror_mode": {
    "name": "ipython",
    "version": 3
   },
   "file_extension": ".py",
   "mimetype": "text/x-python",
   "name": "python",
   "nbconvert_exporter": "python",
   "pygments_lexer": "ipython3",
   "version": "3.9.13"
  }
 },
 "nbformat": 4,
 "nbformat_minor": 5
}
