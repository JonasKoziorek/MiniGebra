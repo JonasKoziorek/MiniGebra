{
 "cells": [
  {
   "cell_type": "code",
   "execution_count": 1,
   "id": "985ae569",
   "metadata": {},
   "outputs": [],
   "source": [
    "# dependencies:\n",
    "    # pyqt5\n",
    "    # numpy\n",
    "    # matplotlib\n",
    "    # dominate"
   ]
  },
  {
   "cell_type": "code",
   "execution_count": 2,
   "id": "4d2cdab3",
   "metadata": {},
   "outputs": [],
   "source": [
    "# usage example -- very simple\n",
    "import minigebra"
   ]
  },
  {
   "cell_type": "code",
   "execution_count": 3,
   "id": "871f62ab",
   "metadata": {},
   "outputs": [
    {
     "name": "stdout",
     "output_type": "stream",
     "text": [
      "App terminated successfully.\n"
     ]
    }
   ],
   "source": [
    "# for gui version use\n",
    "try:\n",
    "    minigebra.run(\"GUI\")\n",
    "except SystemExit as code:\n",
    "    if str(code) == \"0\":\n",
    "        print(\"App terminated successfully.\")\n",
    "    else:\n",
    "        print(f\"App terminated prematurely with exit code {code}.\") \n",
    "except Exception as e:\n",
    "    print(e)"
   ]
  },
  {
   "cell_type": "code",
   "execution_count": null,
   "id": "544079c2",
   "metadata": {},
   "outputs": [
    {
     "name": "stdout",
     "output_type": "stream",
     "text": [
      "MiniGebra> \"domain: (0,1)\";\"diff_order: 2\";\"precision: 0.001\"\n",
      "Commands:\n",
      "\t\tdomain:  (0,1)\n",
      "\t\tdiff_order:  2\n",
      "\t\tprecision:  0.001\n",
      "\n",
      "MiniGebra> x^2\n",
      "Expressions:\n",
      "\t\tx ^ 2\n",
      "Differentiations of order 1:\n",
      "\t\t2x\n",
      "Differentiations of order 2:\n",
      "\t\t(4 / (x ^ 2))(x ^ 2) + (-2 / (x ^ 2))(x ^ 2)\n"
     ]
    },
    {
     "name": "stderr",
     "output_type": "stream",
     "text": [
      "C:\\Users\\pepaz\\Coding\\Python projects\\MiniGebra\\MiniGebra\\minigebra\\interpreter\\atoms\\atoms.py:127: RuntimeWarning: divide by zero encountered in double_scalars\n",
      "  return self.left.eval(dict) / self.right.eval(dict)\n",
      "C:\\Users\\pepaz\\Coding\\Python projects\\MiniGebra\\MiniGebra\\minigebra\\interpreter\\atoms\\atoms.py:131: RuntimeWarning: invalid value encountered in double_scalars\n",
      "  return self.left.eval(dict) * self.right.eval(dict)\n"
     ]
    },
    {
     "name": "stdout",
     "output_type": "stream",
     "text": [
      "\n",
      "MiniGebra> \"domain: (-25,25)\"\n",
      "Commands:\n",
      "\t\tdomain:  (-25,25)\n",
      "\n",
      "MiniGebra> x^2\n",
      "Expressions:\n",
      "\t\tx ^ 2\n",
      "Differentiations of order 1:\n",
      "\t\t2x\n",
      "Differentiations of order 2:\n",
      "\t\t(4 / (x ^ 2))(x ^ 2) + (-2 / (x ^ 2))(x ^ 2)\n",
      "\n",
      "MiniGebra> x^7\n",
      "Expressions:\n",
      "\t\tx ^ 7\n",
      "Differentiations of order 1:\n",
      "\t\t7(x ^ 6)\n",
      "Differentiations of order 2:\n",
      "\t\t(49 / (x ^ 2))(x ^ 7) + (-7 / (x ^ 2))(x ^ 7)\n",
      "\n"
     ]
    }
   ],
   "source": [
    "# for cli version use\n",
    "try:\n",
    "    minigebra.run(\"CLI\")\n",
    "except SystemExit as code:\n",
    "    if str(code) == \"0\":\n",
    "        print(\"App terminated successfully.\")\n",
    "    else:\n",
    "        print(f\"App terminated prematurely with exit code {code}.\") \n",
    "except Exception as e:\n",
    "    print(e)"
   ]
  },
  {
   "cell_type": "code",
   "execution_count": 3,
   "id": "b3df3bc7",
   "metadata": {},
   "outputs": [],
   "source": [
    "# usage instructions:\n",
    "    # write mathematical expression of variable x into the prompt / input prompt\n",
    "        # eg. x^2 or sin(x) or x^2 + x * sin(x)\n",
    "        \n",
    "    # you can write commands into the prompt as well\n",
    "    # the following commands are supported:\n",
    "    # write these commands into the prompt with the double quotes, exactly as shown here\n",
    "    \n",
    "        # \"diff_order: number\", eg. \"diff_order: 2\" - specifies the order of derivatives you want to apply on the input expressions\n",
    "        # \"domain: (num1, num2)\", eg. \"domain: (-10,10)\" - specifies domain for plotting the expressions and their diffs\n",
    "        # \"precision: float\", eg. \"precision: 0.001\" - specifies precision of plotting / discretizing the domain\n",
    "        \n",
    "        # there are options vars and params which were not fully finished (as of now 22.4.2023)\n",
    "        \n",
    "    # expressions and commands can be chained together by separating them by character ;\n",
    "    # eg. x^2+5 ; sin(x) ; \"domain: (0,1)\" ; x^2^3 - this will process three expressions and create their derivatives, results will be plotted on domain (0,1)\n",
    "    \n",
    "    # btw. by entering command once, it's effect is permanent until it is overwritten with the same command with different parameters"
   ]
  },
  {
   "cell_type": "code",
   "execution_count": null,
   "id": "25651b07",
   "metadata": {},
   "outputs": [],
   "source": []
  }
 ],
 "metadata": {
  "@webio": {
   "lastCommId": null,
   "lastKernelId": null
  },
  "kernelspec": {
   "display_name": "Python 3 (ipykernel)",
   "language": "python",
   "name": "python3"
  },
  "language_info": {
   "codemirror_mode": {
    "name": "ipython",
    "version": 3
   },
   "file_extension": ".py",
   "mimetype": "text/x-python",
   "name": "python",
   "nbconvert_exporter": "python",
   "pygments_lexer": "ipython3",
   "version": "3.9.13"
  }
 },
 "nbformat": 4,
 "nbformat_minor": 5
}
