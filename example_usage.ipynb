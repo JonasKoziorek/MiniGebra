{
 "cells": [
  {
   "cell_type": "code",
   "execution_count": 1,
   "id": "4d2cdab3",
   "metadata": {},
   "outputs": [],
   "source": [
    "# usage example -- very simple\n",
    "import minigebra"
   ]
  },
  {
   "cell_type": "code",
   "execution_count": null,
   "id": "871f62ab",
   "metadata": {},
   "outputs": [
    {
     "name": "stdout",
     "output_type": "stream",
     "text": [
      "MiniGebra> \"domain: (0,1)\"\n",
      "Commands:\n",
      "\t\tdomain:  (0,1)\n",
      "\n",
      "['(0', '1)']\n"
     ]
    }
   ],
   "source": [
    "try:\n",
    "    minigebra.run(\"CLI\")\n",
    "except SystemExit as code:\n",
    "    if str(code) == \"0\":\n",
    "        print(\"App terminated successfully.\")\n",
    "    else:\n",
    "        print(f\"App terminated prematurely with exit code {code}.\") \n",
    "except Exception as e:\n",
    "    print(e)"
   ]
  },
  {
   "cell_type": "code",
   "execution_count": null,
   "id": "544079c2",
   "metadata": {},
   "outputs": [],
   "source": []
  }
 ],
 "metadata": {
  "@webio": {
   "lastCommId": null,
   "lastKernelId": null
  },
  "kernelspec": {
   "display_name": "Python 3 (ipykernel)",
   "language": "python",
   "name": "python3"
  },
  "language_info": {
   "codemirror_mode": {
    "name": "ipython",
    "version": 3
   },
   "file_extension": ".py",
   "mimetype": "text/x-python",
   "name": "python",
   "nbconvert_exporter": "python",
   "pygments_lexer": "ipython3",
   "version": "3.9.13"
  }
 },
 "nbformat": 4,
 "nbformat_minor": 5
}
