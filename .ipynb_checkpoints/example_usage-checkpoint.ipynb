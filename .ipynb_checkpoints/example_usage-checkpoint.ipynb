{
 "cells": [
  {
   "cell_type": "code",
   "execution_count": 1,
   "id": "4d2cdab3",
   "metadata": {},
   "outputs": [],
   "source": [
    "# usage example -- very simple\n",
    "import minigebra"
   ]
  },
  {
   "cell_type": "code",
   "execution_count": 4,
   "id": "871f62ab",
   "metadata": {},
   "outputs": [
    {
     "ename": "SystemExit",
     "evalue": "0",
     "output_type": "error",
     "traceback": [
      "An exception has occurred, use %tb to see the full traceback.\n",
      "\u001b[1;31mSystemExit\u001b[0m\u001b[1;31m:\u001b[0m 0\n"
     ]
    }
   ],
   "source": [
    "minigebra.run(\"GUI\")"
   ]
  },
  {
   "cell_type": "code",
   "execution_count": 9,
   "id": "96921ec5",
   "metadata": {},
   "outputs": [],
   "source": [
    "from dominate import document"
   ]
  },
  {
   "cell_type": "code",
   "execution_count": 11,
   "id": "5d48dc8f",
   "metadata": {},
   "outputs": [
    {
     "data": {
      "text/plain": [
       "dominate.document.document"
      ]
     },
     "execution_count": 11,
     "metadata": {},
     "output_type": "execute_result"
    }
   ],
   "source": [
    "type(document())"
   ]
  },
  {
   "cell_type": "code",
   "execution_count": null,
   "id": "fc736421",
   "metadata": {},
   "outputs": [],
   "source": []
  }
 ],
 "metadata": {
  "@webio": {
   "lastCommId": null,
   "lastKernelId": null
  },
  "kernelspec": {
   "display_name": "Python 3 (ipykernel)",
   "language": "python",
   "name": "python3"
  },
  "language_info": {
   "codemirror_mode": {
    "name": "ipython",
    "version": 3
   },
   "file_extension": ".py",
   "mimetype": "text/x-python",
   "name": "python",
   "nbconvert_exporter": "python",
   "pygments_lexer": "ipython3",
   "version": "3.9.13"
  }
 },
 "nbformat": 4,
 "nbformat_minor": 5
}
